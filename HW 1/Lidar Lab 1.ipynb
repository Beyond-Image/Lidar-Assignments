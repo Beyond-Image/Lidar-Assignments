{
 "cells": [
  {
   "cell_type": "code",
   "execution_count": 240,
   "id": "61ff943b",
   "metadata": {},
   "outputs": [],
   "source": [
    "import pandas as pd\n",
    "import numpy as np\n",
    "import sympy as sp\n",
    "import math\n",
    "\n",
    "import matplotlib.pyplot as plt\n",
    "\n",
    "from autograd import jacobian"
   ]
  },
  {
   "cell_type": "code",
   "execution_count": 241,
   "id": "33fbdd47",
   "metadata": {},
   "outputs": [
    {
     "data": {
      "text/html": [
       "<div>\n",
       "<style scoped>\n",
       "    .dataframe tbody tr th:only-of-type {\n",
       "        vertical-align: middle;\n",
       "    }\n",
       "\n",
       "    .dataframe tbody tr th {\n",
       "        vertical-align: top;\n",
       "    }\n",
       "\n",
       "    .dataframe thead th {\n",
       "        text-align: right;\n",
       "    }\n",
       "</style>\n",
       "<table border=\"1\" class=\"dataframe\">\n",
       "  <thead>\n",
       "    <tr style=\"text-align: right;\">\n",
       "      <th></th>\n",
       "      <th>range</th>\n",
       "      <th>alpha</th>\n",
       "      <th>phi</th>\n",
       "      <th>UTM X</th>\n",
       "      <th>UTM Y</th>\n",
       "      <th>UTM Z</th>\n",
       "    </tr>\n",
       "  </thead>\n",
       "  <tbody>\n",
       "    <tr>\n",
       "      <th>0</th>\n",
       "      <td>4.711</td>\n",
       "      <td>96.024041</td>\n",
       "      <td>209.494500</td>\n",
       "      <td>269958.38</td>\n",
       "      <td>3289284.92</td>\n",
       "      <td>-13.936</td>\n",
       "    </tr>\n",
       "    <tr>\n",
       "      <th>1</th>\n",
       "      <td>32.787</td>\n",
       "      <td>95.302806</td>\n",
       "      <td>12.044494</td>\n",
       "      <td>269994.92</td>\n",
       "      <td>3289291.58</td>\n",
       "      <td>-17.126</td>\n",
       "    </tr>\n",
       "    <tr>\n",
       "      <th>2</th>\n",
       "      <td>36.619</td>\n",
       "      <td>90.571994</td>\n",
       "      <td>292.073653</td>\n",
       "      <td>269973.56</td>\n",
       "      <td>3289251.91</td>\n",
       "      <td>-13.936</td>\n",
       "    </tr>\n",
       "    <tr>\n",
       "      <th>3</th>\n",
       "      <td>47.456</td>\n",
       "      <td>89.747596</td>\n",
       "      <td>338.008476</td>\n",
       "      <td>270005.04</td>\n",
       "      <td>3289265.51</td>\n",
       "      <td>-13.936</td>\n",
       "    </tr>\n",
       "    <tr>\n",
       "      <th>4</th>\n",
       "      <td>68.986</td>\n",
       "      <td>89.333712</td>\n",
       "      <td>27.885113</td>\n",
       "      <td>270026.11</td>\n",
       "      <td>3289313.99</td>\n",
       "      <td>-13.806</td>\n",
       "    </tr>\n",
       "    <tr>\n",
       "      <th>5</th>\n",
       "      <td>80.409</td>\n",
       "      <td>90.014308</td>\n",
       "      <td>2.606140</td>\n",
       "      <td>270043.03</td>\n",
       "      <td>3289283.87</td>\n",
       "      <td>-14.906</td>\n",
       "    </tr>\n",
       "  </tbody>\n",
       "</table>\n",
       "</div>"
      ],
      "text/plain": [
       "    range      alpha         phi      UTM X       UTM Y   UTM Z\n",
       "0   4.711  96.024041  209.494500  269958.38  3289284.92 -13.936\n",
       "1  32.787  95.302806   12.044494  269994.92  3289291.58 -17.126\n",
       "2  36.619  90.571994  292.073653  269973.56  3289251.91 -13.936\n",
       "3  47.456  89.747596  338.008476  270005.04  3289265.51 -13.936\n",
       "4  68.986  89.333712   27.885113  270026.11  3289313.99 -13.806\n",
       "5  80.409  90.014308    2.606140  270043.03  3289283.87 -14.906"
      ]
     },
     "execution_count": 241,
     "metadata": {},
     "output_type": "execute_result"
    }
   ],
   "source": [
    "range_m = np.array([4.711, 32.787, 36.619, 47.456, 68.986, 80.409])\n",
    "alpha = np.array([96.024041, 95.302806, 90.571994, 89.747596, 89.333712, 90.014308])\n",
    "phi = np.array([209.494500, 12.044494, 292.073653, 338.008476, 27.885113, 2.606140])\n",
    "utmx = np.array([269958.38, 269994.92, 269973.56, 270005.04, 270026.11, 270043.03])\n",
    "utmy = np.array([3289284.92, 3289291.58, 3289251.91, 3289265.51, 3289313.99, 3289283.87])\n",
    "utmz = np.array([-13.83, -17.02, -13.83, -13.83, -13.70, -14.85])\n",
    "\n",
    "df = pd.DataFrame({'range': range_m, 'alpha': alpha, 'phi': phi, 'UTM X': utmx, 'UTM Y': utmy, 'UTM Z': utmz})\n",
    "change_amounts = np.array([0.106, 0.106, 0.106, 0.106, 0.106, 0.056])\n",
    "df['UTM Z'] = df['UTM Z'] - change_amounts\n",
    "\n",
    "\n",
    "df"
   ]
  },
  {
   "cell_type": "code",
   "execution_count": 242,
   "id": "0faac819",
   "metadata": {},
   "outputs": [
    {
     "data": {
      "text/html": [
       "<div>\n",
       "<style scoped>\n",
       "    .dataframe tbody tr th:only-of-type {\n",
       "        vertical-align: middle;\n",
       "    }\n",
       "\n",
       "    .dataframe tbody tr th {\n",
       "        vertical-align: top;\n",
       "    }\n",
       "\n",
       "    .dataframe thead th {\n",
       "        text-align: right;\n",
       "    }\n",
       "</style>\n",
       "<table border=\"1\" class=\"dataframe\">\n",
       "  <thead>\n",
       "    <tr style=\"text-align: right;\">\n",
       "      <th></th>\n",
       "      <th>range</th>\n",
       "      <th>alpha</th>\n",
       "      <th>phi</th>\n",
       "      <th>UTM X</th>\n",
       "      <th>UTM Y</th>\n",
       "      <th>UTM Z</th>\n",
       "      <th>X Body</th>\n",
       "      <th>Y Body</th>\n",
       "      <th>Z Body</th>\n",
       "    </tr>\n",
       "  </thead>\n",
       "  <tbody>\n",
       "    <tr>\n",
       "      <th>0</th>\n",
       "      <td>4.711</td>\n",
       "      <td>96.024041</td>\n",
       "      <td>209.494500</td>\n",
       "      <td>269958.38</td>\n",
       "      <td>3289284.92</td>\n",
       "      <td>-13.936</td>\n",
       "      <td>-4.077825</td>\n",
       "      <td>-2.306606</td>\n",
       "      <td>-0.494399</td>\n",
       "    </tr>\n",
       "    <tr>\n",
       "      <th>1</th>\n",
       "      <td>32.787</td>\n",
       "      <td>95.302806</td>\n",
       "      <td>12.044494</td>\n",
       "      <td>269994.92</td>\n",
       "      <td>3289291.58</td>\n",
       "      <td>-17.126</td>\n",
       "      <td>31.927988</td>\n",
       "      <td>6.812422</td>\n",
       "      <td>-3.030153</td>\n",
       "    </tr>\n",
       "    <tr>\n",
       "      <th>2</th>\n",
       "      <td>36.619</td>\n",
       "      <td>90.571994</td>\n",
       "      <td>292.073653</td>\n",
       "      <td>269973.56</td>\n",
       "      <td>3289251.91</td>\n",
       "      <td>-13.936</td>\n",
       "      <td>13.760667</td>\n",
       "      <td>-33.933193</td>\n",
       "      <td>-0.365568</td>\n",
       "    </tr>\n",
       "    <tr>\n",
       "      <th>3</th>\n",
       "      <td>47.456</td>\n",
       "      <td>89.747596</td>\n",
       "      <td>338.008476</td>\n",
       "      <td>270005.04</td>\n",
       "      <td>3289265.51</td>\n",
       "      <td>-13.936</td>\n",
       "      <td>44.002639</td>\n",
       "      <td>-17.770649</td>\n",
       "      <td>0.209056</td>\n",
       "    </tr>\n",
       "    <tr>\n",
       "      <th>4</th>\n",
       "      <td>68.986</td>\n",
       "      <td>89.333712</td>\n",
       "      <td>27.885113</td>\n",
       "      <td>270026.11</td>\n",
       "      <td>3289313.99</td>\n",
       "      <td>-13.806</td>\n",
       "      <td>60.971718</td>\n",
       "      <td>32.262582</td>\n",
       "      <td>0.802215</td>\n",
       "    </tr>\n",
       "    <tr>\n",
       "      <th>5</th>\n",
       "      <td>80.409</td>\n",
       "      <td>90.014308</td>\n",
       "      <td>2.606140</td>\n",
       "      <td>270043.03</td>\n",
       "      <td>3289283.87</td>\n",
       "      <td>-14.906</td>\n",
       "      <td>80.325831</td>\n",
       "      <td>3.656200</td>\n",
       "      <td>-0.020080</td>\n",
       "    </tr>\n",
       "  </tbody>\n",
       "</table>\n",
       "</div>"
      ],
      "text/plain": [
       "    range      alpha         phi      UTM X       UTM Y   UTM Z     X Body  \\\n",
       "0   4.711  96.024041  209.494500  269958.38  3289284.92 -13.936  -4.077825   \n",
       "1  32.787  95.302806   12.044494  269994.92  3289291.58 -17.126  31.927988   \n",
       "2  36.619  90.571994  292.073653  269973.56  3289251.91 -13.936  13.760667   \n",
       "3  47.456  89.747596  338.008476  270005.04  3289265.51 -13.936  44.002639   \n",
       "4  68.986  89.333712   27.885113  270026.11  3289313.99 -13.806  60.971718   \n",
       "5  80.409  90.014308    2.606140  270043.03  3289283.87 -14.906  80.325831   \n",
       "\n",
       "      Y Body    Z Body  \n",
       "0  -2.306606 -0.494399  \n",
       "1   6.812422 -3.030153  \n",
       "2 -33.933193 -0.365568  \n",
       "3 -17.770649  0.209056  \n",
       "4  32.262582  0.802215  \n",
       "5   3.656200 -0.020080  "
      ]
     },
     "execution_count": 242,
     "metadata": {},
     "output_type": "execute_result"
    }
   ],
   "source": [
    "df['X Body'] = np.NaN; df['Y Body'] = np.NaN; df['Z Body'] = np.NaN\n",
    "\n",
    "for x in range(df.shape[0]):\n",
    "    x_body = df['range'][x] * math.cos(np.deg2rad(90 - df['alpha'][x])) * math.cos(np.deg2rad(df['phi'][x])); df['X Body'][x] = x_body\n",
    "    y_body = df['range'][x] * math.cos(np.deg2rad(90 - df['alpha'][x])) * math.sin(np.deg2rad(df['phi'][x])); df['Y Body'][x] = y_body\n",
    "    z_body = df['range'][x] * math.sin(np.deg2rad(90 - df['alpha'][x])); df['Z Body'][x] = z_body\n",
    "    \n",
    "df"
   ]
  },
  {
   "cell_type": "code",
   "execution_count": 243,
   "id": "7eff36f5",
   "metadata": {},
   "outputs": [
    {
     "name": "stdout",
     "output_type": "stream",
     "text": [
      "       UTM X       UTM Y   UTM Z\n",
      "0  269958.38  3289284.92 -13.936\n",
      "1  269994.92  3289291.58 -17.126\n",
      "2  269973.56  3289251.91 -13.936\n",
      "3  270005.04  3289265.51 -13.936\n",
      "4  270026.11  3289313.99 -13.806\n",
      "5  270043.03  3289283.87 -14.906\n"
     ]
    }
   ],
   "source": [
    "body_coords = df[['X Body', 'Y Body', 'Z Body']]\n",
    "utm_coords = df[['UTM X', 'UTM Y', 'UTM Z']]\n",
    "print(utm_coords)"
   ]
  },
  {
   "cell_type": "code",
   "execution_count": 244,
   "id": "f409e353",
   "metadata": {},
   "outputs": [],
   "source": [
    "tx, ty, tz, ex, ey, ez = sp.symbols('Tx Ty Tz Ex Ey Ez')\n",
    "xb, yb, zb = sp.symbols('xB yB zB')\n",
    "\n",
    "Rx = sp.Matrix([[1, 0, 0], [0, sp.cos(ex), sp.sin(ex)], [0, -sp.sin(ex), sp.cos(ex)]]);\n",
    "Ry = sp.Matrix([[sp.cos(ey), 0, -sp.sin(ey)], [0, 1, 0], [sp.sin(ey), 0, sp.cos(ey)]]);\n",
    "Rz = sp.Matrix([[sp.cos(ez), sp.sin(ez), 0], [-sp.sin(ez), sp.cos(ez), 0], [0, 0, 1]])\n",
    "\n",
    "R = Rx*Ry*Rz\n",
    "r_global = sp.Matrix([tx, ty, tz]) + R * sp.Matrix([xb, yb, zb])\n",
    "A = r_global.jacobian([tx, ty, tz, ex, ey, ez])"
   ]
  },
  {
   "cell_type": "code",
   "execution_count": 245,
   "id": "367d9410",
   "metadata": {},
   "outputs": [
    {
     "data": {
      "text/latex": [
       "$\\displaystyle \\left[\\begin{matrix}1 & 0 & 0\\\\0 & \\cos{\\left(Ex \\right)} & \\sin{\\left(Ex \\right)}\\\\0 & - \\sin{\\left(Ex \\right)} & \\cos{\\left(Ex \\right)}\\end{matrix}\\right]$"
      ],
      "text/plain": [
       "Matrix([\n",
       "[1,        0,       0],\n",
       "[0,  cos(Ex), sin(Ex)],\n",
       "[0, -sin(Ex), cos(Ex)]])"
      ]
     },
     "execution_count": 245,
     "metadata": {},
     "output_type": "execute_result"
    }
   ],
   "source": [
    "Rx"
   ]
  },
  {
   "cell_type": "code",
   "execution_count": 246,
   "id": "6c28eca3",
   "metadata": {},
   "outputs": [
    {
     "data": {
      "text/latex": [
       "$\\displaystyle \\left[\\begin{matrix}\\cos{\\left(Ey \\right)} & 0 & - \\sin{\\left(Ey \\right)}\\\\0 & 1 & 0\\\\\\sin{\\left(Ey \\right)} & 0 & \\cos{\\left(Ey \\right)}\\end{matrix}\\right]$"
      ],
      "text/plain": [
       "Matrix([\n",
       "[cos(Ey), 0, -sin(Ey)],\n",
       "[      0, 1,        0],\n",
       "[sin(Ey), 0,  cos(Ey)]])"
      ]
     },
     "execution_count": 246,
     "metadata": {},
     "output_type": "execute_result"
    }
   ],
   "source": [
    "Ry"
   ]
  },
  {
   "cell_type": "code",
   "execution_count": 247,
   "id": "278142da",
   "metadata": {},
   "outputs": [
    {
     "data": {
      "text/latex": [
       "$\\displaystyle \\left[\\begin{matrix}\\cos{\\left(Ez \\right)} & \\sin{\\left(Ez \\right)} & 0\\\\- \\sin{\\left(Ez \\right)} & \\cos{\\left(Ez \\right)} & 0\\\\0 & 0 & 1\\end{matrix}\\right]$"
      ],
      "text/plain": [
       "Matrix([\n",
       "[ cos(Ez), sin(Ez), 0],\n",
       "[-sin(Ez), cos(Ez), 0],\n",
       "[       0,       0, 1]])"
      ]
     },
     "execution_count": 247,
     "metadata": {},
     "output_type": "execute_result"
    }
   ],
   "source": [
    "Rz"
   ]
  },
  {
   "cell_type": "code",
   "execution_count": 248,
   "id": "820feabc",
   "metadata": {},
   "outputs": [
    {
     "data": {
      "text/latex": [
       "$\\displaystyle \\left[\\begin{matrix}\\cos{\\left(Ey \\right)} \\cos{\\left(Ez \\right)} & \\sin{\\left(Ez \\right)} \\cos{\\left(Ey \\right)} & - \\sin{\\left(Ey \\right)}\\\\\\sin{\\left(Ex \\right)} \\sin{\\left(Ey \\right)} \\cos{\\left(Ez \\right)} - \\sin{\\left(Ez \\right)} \\cos{\\left(Ex \\right)} & \\sin{\\left(Ex \\right)} \\sin{\\left(Ey \\right)} \\sin{\\left(Ez \\right)} + \\cos{\\left(Ex \\right)} \\cos{\\left(Ez \\right)} & \\sin{\\left(Ex \\right)} \\cos{\\left(Ey \\right)}\\\\\\sin{\\left(Ex \\right)} \\sin{\\left(Ez \\right)} + \\sin{\\left(Ey \\right)} \\cos{\\left(Ex \\right)} \\cos{\\left(Ez \\right)} & - \\sin{\\left(Ex \\right)} \\cos{\\left(Ez \\right)} + \\sin{\\left(Ey \\right)} \\sin{\\left(Ez \\right)} \\cos{\\left(Ex \\right)} & \\cos{\\left(Ex \\right)} \\cos{\\left(Ey \\right)}\\end{matrix}\\right]$"
      ],
      "text/plain": [
       "Matrix([\n",
       "[                          cos(Ey)*cos(Ez),                            sin(Ez)*cos(Ey),        -sin(Ey)],\n",
       "[sin(Ex)*sin(Ey)*cos(Ez) - sin(Ez)*cos(Ex),  sin(Ex)*sin(Ey)*sin(Ez) + cos(Ex)*cos(Ez), sin(Ex)*cos(Ey)],\n",
       "[sin(Ex)*sin(Ez) + sin(Ey)*cos(Ex)*cos(Ez), -sin(Ex)*cos(Ez) + sin(Ey)*sin(Ez)*cos(Ex), cos(Ex)*cos(Ey)]])"
      ]
     },
     "execution_count": 248,
     "metadata": {},
     "output_type": "execute_result"
    }
   ],
   "source": [
    "R"
   ]
  },
  {
   "cell_type": "code",
   "execution_count": 249,
   "id": "a7b67101",
   "metadata": {},
   "outputs": [
    {
     "data": {
      "text/latex": [
       "$\\displaystyle \\left[\\begin{matrix}Tx + xB \\cos{\\left(Ey \\right)} \\cos{\\left(Ez \\right)} + yB \\sin{\\left(Ez \\right)} \\cos{\\left(Ey \\right)} - zB \\sin{\\left(Ey \\right)}\\\\Ty + xB \\left(\\sin{\\left(Ex \\right)} \\sin{\\left(Ey \\right)} \\cos{\\left(Ez \\right)} - \\sin{\\left(Ez \\right)} \\cos{\\left(Ex \\right)}\\right) + yB \\left(\\sin{\\left(Ex \\right)} \\sin{\\left(Ey \\right)} \\sin{\\left(Ez \\right)} + \\cos{\\left(Ex \\right)} \\cos{\\left(Ez \\right)}\\right) + zB \\sin{\\left(Ex \\right)} \\cos{\\left(Ey \\right)}\\\\Tz + xB \\left(\\sin{\\left(Ex \\right)} \\sin{\\left(Ez \\right)} + \\sin{\\left(Ey \\right)} \\cos{\\left(Ex \\right)} \\cos{\\left(Ez \\right)}\\right) + yB \\left(- \\sin{\\left(Ex \\right)} \\cos{\\left(Ez \\right)} + \\sin{\\left(Ey \\right)} \\sin{\\left(Ez \\right)} \\cos{\\left(Ex \\right)}\\right) + zB \\cos{\\left(Ex \\right)} \\cos{\\left(Ey \\right)}\\end{matrix}\\right]$"
      ],
      "text/plain": [
       "Matrix([\n",
       "[                                                                 Tx + xB*cos(Ey)*cos(Ez) + yB*sin(Ez)*cos(Ey) - zB*sin(Ey)],\n",
       "[ Ty + xB*(sin(Ex)*sin(Ey)*cos(Ez) - sin(Ez)*cos(Ex)) + yB*(sin(Ex)*sin(Ey)*sin(Ez) + cos(Ex)*cos(Ez)) + zB*sin(Ex)*cos(Ey)],\n",
       "[Tz + xB*(sin(Ex)*sin(Ez) + sin(Ey)*cos(Ex)*cos(Ez)) + yB*(-sin(Ex)*cos(Ez) + sin(Ey)*sin(Ez)*cos(Ex)) + zB*cos(Ex)*cos(Ey)]])"
      ]
     },
     "execution_count": 249,
     "metadata": {},
     "output_type": "execute_result"
    }
   ],
   "source": [
    "r_global"
   ]
  },
  {
   "cell_type": "code",
   "execution_count": 250,
   "id": "9533c796",
   "metadata": {},
   "outputs": [
    {
     "data": {
      "text/latex": [
       "$\\displaystyle \\left[\\begin{matrix}1 & 0 & 0 & 0 & - xB \\sin{\\left(Ey \\right)} \\cos{\\left(Ez \\right)} - yB \\sin{\\left(Ey \\right)} \\sin{\\left(Ez \\right)} - zB \\cos{\\left(Ey \\right)} & - xB \\sin{\\left(Ez \\right)} \\cos{\\left(Ey \\right)} + yB \\cos{\\left(Ey \\right)} \\cos{\\left(Ez \\right)}\\\\0 & 1 & 0 & xB \\left(\\sin{\\left(Ex \\right)} \\sin{\\left(Ez \\right)} + \\sin{\\left(Ey \\right)} \\cos{\\left(Ex \\right)} \\cos{\\left(Ez \\right)}\\right) + yB \\left(- \\sin{\\left(Ex \\right)} \\cos{\\left(Ez \\right)} + \\sin{\\left(Ey \\right)} \\sin{\\left(Ez \\right)} \\cos{\\left(Ex \\right)}\\right) + zB \\cos{\\left(Ex \\right)} \\cos{\\left(Ey \\right)} & xB \\sin{\\left(Ex \\right)} \\cos{\\left(Ey \\right)} \\cos{\\left(Ez \\right)} + yB \\sin{\\left(Ex \\right)} \\sin{\\left(Ez \\right)} \\cos{\\left(Ey \\right)} - zB \\sin{\\left(Ex \\right)} \\sin{\\left(Ey \\right)} & xB \\left(- \\sin{\\left(Ex \\right)} \\sin{\\left(Ey \\right)} \\sin{\\left(Ez \\right)} - \\cos{\\left(Ex \\right)} \\cos{\\left(Ez \\right)}\\right) + yB \\left(\\sin{\\left(Ex \\right)} \\sin{\\left(Ey \\right)} \\cos{\\left(Ez \\right)} - \\sin{\\left(Ez \\right)} \\cos{\\left(Ex \\right)}\\right)\\\\0 & 0 & 1 & xB \\left(- \\sin{\\left(Ex \\right)} \\sin{\\left(Ey \\right)} \\cos{\\left(Ez \\right)} + \\sin{\\left(Ez \\right)} \\cos{\\left(Ex \\right)}\\right) + yB \\left(- \\sin{\\left(Ex \\right)} \\sin{\\left(Ey \\right)} \\sin{\\left(Ez \\right)} - \\cos{\\left(Ex \\right)} \\cos{\\left(Ez \\right)}\\right) - zB \\sin{\\left(Ex \\right)} \\cos{\\left(Ey \\right)} & xB \\cos{\\left(Ex \\right)} \\cos{\\left(Ey \\right)} \\cos{\\left(Ez \\right)} + yB \\sin{\\left(Ez \\right)} \\cos{\\left(Ex \\right)} \\cos{\\left(Ey \\right)} - zB \\sin{\\left(Ey \\right)} \\cos{\\left(Ex \\right)} & xB \\left(\\sin{\\left(Ex \\right)} \\cos{\\left(Ez \\right)} - \\sin{\\left(Ey \\right)} \\sin{\\left(Ez \\right)} \\cos{\\left(Ex \\right)}\\right) + yB \\left(\\sin{\\left(Ex \\right)} \\sin{\\left(Ez \\right)} + \\sin{\\left(Ey \\right)} \\cos{\\left(Ex \\right)} \\cos{\\left(Ez \\right)}\\right)\\end{matrix}\\right]$"
      ],
      "text/plain": [
       "Matrix([\n",
       "[1, 0, 0,                                                                                                                      0,                        -xB*sin(Ey)*cos(Ez) - yB*sin(Ey)*sin(Ez) - zB*cos(Ey),                                                         -xB*sin(Ez)*cos(Ey) + yB*cos(Ey)*cos(Ez)],\n",
       "[0, 1, 0,  xB*(sin(Ex)*sin(Ez) + sin(Ey)*cos(Ex)*cos(Ez)) + yB*(-sin(Ex)*cos(Ez) + sin(Ey)*sin(Ez)*cos(Ex)) + zB*cos(Ex)*cos(Ey), xB*sin(Ex)*cos(Ey)*cos(Ez) + yB*sin(Ex)*sin(Ez)*cos(Ey) - zB*sin(Ex)*sin(Ey), xB*(-sin(Ex)*sin(Ey)*sin(Ez) - cos(Ex)*cos(Ez)) + yB*(sin(Ex)*sin(Ey)*cos(Ez) - sin(Ez)*cos(Ex))],\n",
       "[0, 0, 1, xB*(-sin(Ex)*sin(Ey)*cos(Ez) + sin(Ez)*cos(Ex)) + yB*(-sin(Ex)*sin(Ey)*sin(Ez) - cos(Ex)*cos(Ez)) - zB*sin(Ex)*cos(Ey), xB*cos(Ex)*cos(Ey)*cos(Ez) + yB*sin(Ez)*cos(Ex)*cos(Ey) - zB*sin(Ey)*cos(Ex),  xB*(sin(Ex)*cos(Ez) - sin(Ey)*sin(Ez)*cos(Ex)) + yB*(sin(Ex)*sin(Ez) + sin(Ey)*cos(Ex)*cos(Ez))]])"
      ]
     },
     "execution_count": 250,
     "metadata": {},
     "output_type": "execute_result"
    }
   ],
   "source": [
    "A"
   ]
  },
  {
   "cell_type": "code",
   "execution_count": 272,
   "id": "eb8af812",
   "metadata": {},
   "outputs": [
    {
     "name": "stdout",
     "output_type": "stream",
     "text": [
      "T array: [ 2.70000173e+05  3.28928196e+06 -1.46076667e+01]\n",
      "Epsilon array: [0 0 0]\n"
     ]
    }
   ],
   "source": [
    "t_x = df['UTM X'].mean(); t_y = df['UTM Y'].mean(); t_z = df['UTM Z'].mean()\n",
    "e1 = 0; e2 = 0; e3 = 0\n",
    "\n",
    "trans = np.array([t_x, t_y, t_z])\n",
    "epsi = np.array([e1, e2, e3])\n",
    "print(f'T array: {trans}')\n",
    "print(f'Epsilon array: {epsi}')"
   ]
  },
  {
   "cell_type": "code",
   "execution_count": 252,
   "id": "ab3c3277",
   "metadata": {},
   "outputs": [],
   "source": [
    "jac_funct = sp.lambdify((tx, ty, tz, ex, ey, ez, xb, yb, zb), A)\n",
    "r_funct = sp.lambdify((ex, ey, ez), R)"
   ]
  },
  {
   "cell_type": "code",
   "execution_count": 253,
   "id": "bdd3efc1",
   "metadata": {},
   "outputs": [],
   "source": [
    "def log_t(x):\n",
    "    if x>=0:\n",
    "        return math.log10(x)\n",
    "    else:\n",
    "        return -(math.log10(-x))"
   ]
  },
  {
   "cell_type": "code",
   "execution_count": 273,
   "id": "1df01fda",
   "metadata": {},
   "outputs": [
    {
     "name": "stdout",
     "output_type": "stream",
     "text": [
      "0\n",
      "iter: 0\n",
      "trans: [ 2.70000173e+05  3.28928196e+06 -1.46076667e+01]\n",
      "[-3.77155080e+01  5.26327253e+00  1.16606610e+00 -3.71813218e+01\n",
      "  2.80424452e+00  5.11819957e-01 -4.03740007e+01  3.87985921e+00\n",
      "  1.03723461e+00 -3.91359728e+01  1.31731537e+00  4.62610335e-01\n",
      " -3.50350515e+01 -2.35915823e-01 -5.47883652e-04 -3.74691640e+01\n",
      " -1.74953373e+00 -2.78253461e-01]\n",
      "iter: 1\n",
      "trans: [ 2.69962519e+05  3.28928699e+06 -1.34930852e+01]\n",
      "[ 0.12375525 -0.10962556 -0.02700485  0.07271616  0.46537595 -0.04304886\n",
      "  0.15481209 -0.11994814 -0.01237137  0.14924341 -0.11383838 -0.00987475\n",
      "  0.14453052 -0.08460513  0.04682183  0.17054748 -0.08540821 -0.04806625]\n",
      "iter: 2\n",
      "trans: [ 2.69962656e+05  3.28928698e+06 -1.34902616e+01]\n",
      "[-0.01239531 -0.10080937 -0.02825798 -0.06251571  0.46974777 -0.04223532\n",
      "  0.01880895 -0.11112882  0.03863051  0.01318375 -0.10488612  0.03081401\n",
      "  0.00824093 -0.07541418  0.0236633   0.03468734 -0.07763762 -0.02262043]\n",
      "iter: 3\n",
      "trans: [ 2.69962656e+05  3.28928698e+06 -1.34903683e+01]\n",
      "[-0.0123958  -0.1007957  -0.02815337 -0.06252332  0.46978257 -0.04217229\n",
      "  0.01881132 -0.1111134   0.03851867  0.0131849  -0.10486788  0.03071325\n",
      "  0.00823796 -0.0753948   0.02379068  0.03468493 -0.0776108  -0.02269694]\n",
      "iter: 4\n",
      "trans: [ 2.69962656e+05  3.28928698e+06 -1.34903679e+01]\n",
      "[-0.0123958  -0.10079568 -0.02815381 -0.06252329  0.46978252 -0.04217254\n",
      "  0.01881131 -0.11111338  0.03851911  0.01318489 -0.10486787  0.03071366\n",
      "  0.00823796 -0.07539479  0.02379018  0.03468493 -0.07761081 -0.02269661]\n",
      "iter: 5\n",
      "trans: [ 2.69962656e+05  3.28928698e+06 -1.34903679e+01]\n",
      "[-0.0123958  -0.10079568 -0.0281538  -0.06252329  0.46978252 -0.04217254\n",
      "  0.01881131 -0.11111338  0.03851911  0.01318489 -0.10486787  0.03071366\n",
      "  0.00823796 -0.07539479  0.02379018  0.03468493 -0.07761081 -0.02269661]\n",
      "iter: 6\n",
      "trans: [ 2.69962656e+05  3.28928698e+06 -1.34903679e+01]\n",
      "[-0.0123958  -0.10079568 -0.0281538  -0.06252329  0.46978252 -0.04217254\n",
      "  0.01881131 -0.11111338  0.03851911  0.01318489 -0.10486787  0.03071366\n",
      "  0.00823796 -0.07539479  0.02379018  0.03468493 -0.07761081 -0.02269661]\n",
      "iter: 7\n",
      "trans: [ 2.69962656e+05  3.28928698e+06 -1.34903679e+01]\n",
      "[-0.0123958  -0.10079568 -0.0281538  -0.06252329  0.46978252 -0.04217254\n",
      "  0.01881131 -0.11111338  0.03851911  0.01318489 -0.10486787  0.03071366\n",
      "  0.00823796 -0.07539479  0.02379018  0.03468493 -0.07761081 -0.02269661]\n",
      "iter: 8\n",
      "trans: [ 2.69962656e+05  3.28928698e+06 -1.34903679e+01]\n",
      "[-0.0123958  -0.10079568 -0.0281538  -0.06252329  0.46978252 -0.04217254\n",
      "  0.01881131 -0.11111338  0.03851911  0.01318489 -0.10486787  0.03071366\n",
      "  0.00823796 -0.07539479  0.02379018  0.03468493 -0.07761081 -0.02269661]\n",
      "iter: 9\n",
      "trans: [ 2.69962656e+05  3.28928698e+06 -1.34903679e+01]\n",
      "[-0.0123958  -0.10079568 -0.0281538  -0.06252329  0.46978252 -0.04217254\n",
      "  0.01881131 -0.11111338  0.03851911  0.01318489 -0.10486787  0.03071366\n",
      "  0.00823796 -0.07539479  0.02379018  0.03468493 -0.07761081 -0.02269661]\n"
     ]
    }
   ],
   "source": [
    "tx = []\n",
    "ty = []\n",
    "tz = []\n",
    "ex = []\n",
    "ey = []\n",
    "ez = []\n",
    "\n",
    "print(e1)\n",
    "for x in range(10):\n",
    "    print(f'iter: {x}')\n",
    "    j_val = jac_funct(t_x, t_y, t_z, e1, e2, e3, df['X Body'][0], df['Y Body'][0], df['Z Body'][0])\n",
    "    for y in range(1, df.shape[0]):\n",
    "        x_iter = df['X Body'][y]\n",
    "        y_iter = df['Y Body'][y]\n",
    "        z_iter = df['Z Body'][y]\n",
    "        \n",
    "        j_iter = jac_funct(t_x, t_y, t_z, e1, e2, e3, x_iter, y_iter, z_iter)\n",
    "        j_val = np.vstack((j_val, j_iter))\n",
    "        \n",
    "    #print(j_val)\n",
    "    r = r_funct(e1, e2, e3)    \n",
    "    res = utm_coords.iloc[0] - ((trans).T + r@np.array(body_coords.iloc[0]))\n",
    "    print(f'trans: {trans}')\n",
    "    for z in range(1, df.shape[0]):\n",
    "        res_val = utm_coords.iloc[z] - ((trans).T + r@np.array(body_coords.iloc[z]))\n",
    "        res = np.hstack((res, res_val))\n",
    "        \n",
    "    print(res)    \n",
    "    corr = np.linalg.inv(j_val.T @ j_val) @ j_val.T @ res\n",
    "    t_x += corr[0]; t_y += corr[1]; t_z += corr[2]; e1 += corr[3]; e2 += corr[4]; e3 += corr[5]\n",
    "    trans = np.array([t_x, t_y, t_z])\n",
    "    \n",
    "    tx.append(log_t(t_x)); ty.append(log_t(t_y)); tz.append(log_t(t_z))\n",
    "    ex.append(e1); ey.append(e2); ez.append(e3)"
   ]
  },
  {
   "cell_type": "code",
   "execution_count": 274,
   "id": "7ffa2974",
   "metadata": {},
   "outputs": [
    {
     "name": "stdout",
     "output_type": "stream",
     "text": [
      "Unknown Parameters:\n",
      "Tx: 269962.6556415791\n",
      "Ty: 3289286.9813997406\n",
      "Tz: -13.490367889505684\n",
      "E1: 0.001953286000383963\n",
      "E2: -0.01716014599682048\n",
      "E3: 0.08319021863398897\n"
     ]
    }
   ],
   "source": [
    "print(f'Unknown Parameters:')\n",
    "print(f'Tx: {t_x}')\n",
    "print(f'Ty: {t_y}')\n",
    "print(f'Tz: {t_z}')\n",
    "print(f'E1: {e1}')\n",
    "print(f'E2: {e2}')\n",
    "print(f'E3: {e3}')"
   ]
  },
  {
   "cell_type": "code",
   "execution_count": 313,
   "id": "d1796971",
   "metadata": {},
   "outputs": [
    {
     "data": {
      "image/png": "[encoded data removed]",
      "text/plain": [
       "<Figure size 640x480 with 1 Axes>"
      ]
     },
     "metadata": {},
     "output_type": "display_data"
    }
   ],
   "source": [
    "plt.plot(tx, label='tx')\n",
    "plt.plot(ty, label='ty')\n",
    "plt.plot(tz, label='tz')\n",
    "plt.plot(ex, label = 'ex')\n",
    "plt.plot(ey, label = 'ey')\n",
    "plt.plot(ez, label = 'ez')\n",
    "\n",
    "plt.xlabel('Iterations')\n",
    "plt.ylabel('Values')\n",
    "\n",
    "plt.legend()\n",
    "plt.show()"
   ]
  },
  {
   "cell_type": "code",
   "execution_count": 294,
   "id": "1c590ab9",
   "metadata": {},
   "outputs": [
    {
     "data": {
      "text/plain": [
       "array([[ 52.34461094,  86.56997583, -75.47034114,  -5.01      ],\n",
       "       [ 52.28712485,  86.58486201, -75.47040593,  -5.33      ],\n",
       "       [ 52.12748354,  86.62889426, -75.47025255,  -5.58      ],\n",
       "       ...,\n",
       "       [ 60.85140352,  84.79349493,  38.7228198 , -18.639999  ],\n",
       "       [ 61.01603995,  84.81866096,  38.50762228, -13.59      ],\n",
       "       [ 61.2920161 ,  84.79465294,  38.70320062, -17.73      ]])"
      ]
     },
     "execution_count": 294,
     "metadata": {},
     "output_type": "execute_result"
    }
   ],
   "source": [
    "scans = np.load('scan.npy')\n",
    "scans"
   ]
  },
  {
   "cell_type": "code",
   "execution_count": 295,
   "id": "56ee984c",
   "metadata": {},
   "outputs": [
    {
     "data": {
      "text/plain": [
       "(1176072, 4)"
      ]
     },
     "execution_count": 295,
     "metadata": {},
     "output_type": "execute_result"
    }
   ],
   "source": [
    "scans.shape"
   ]
  },
  {
   "cell_type": "code",
   "execution_count": 301,
   "id": "57e658bf",
   "metadata": {},
   "outputs": [
    {
     "data": {
      "text/plain": [
       "(1176072, 3)"
      ]
     },
     "execution_count": 301,
     "metadata": {},
     "output_type": "execute_result"
    }
   ],
   "source": [
    "scans_params = scans[:, :3]\n",
    "scans_test = scans_params.copy()\n",
    "scans_intensity = scans[:, 3]\n",
    "for x in range(scans.shape[0]):\n",
    "    scans_test[x][0] = scans_params[x][0] * np.cos(np.deg2rad(90 - scans_params[x][1])) * np.cos(np.deg2rad(scans_params[x][2]))\n",
    "    scans_test[x][1] = scans_params[x][0] * np.cos(np.deg2rad(90 - scans_params[x][1])) * np.sin(np.deg2rad(scans_params[x][2]))\n",
    "    scans_test[x][2] = scans_params[x][0] * np.sin(np.deg2rad(90 - scans_params[x][1]))\n",
    "    \n",
    "scans_params.shape"
   ]
  },
  {
   "cell_type": "code",
   "execution_count": 325,
   "id": "34caedeb",
   "metadata": {},
   "outputs": [
    {
     "name": "stdout",
     "output_type": "stream",
     "text": [
      "[[ 2.69962601e+05  3.28928698e+06 -1.62930041e+01]\n",
      " [ 2.69962601e+05  3.28928698e+06 -1.62871544e+01]\n",
      " [ 2.69962601e+05  3.28928698e+06 -1.62710733e+01]\n",
      " ...\n",
      " [ 2.69964640e+05  3.28928739e+06  3.89254965e+00]\n",
      " [ 2.69964661e+05  3.28928740e+06  3.94808149e+00]\n",
      " [ 2.69964696e+05  3.28928741e+06  4.07141441e+00]]\n"
     ]
    }
   ],
   "source": [
    "scans_range = scans[:,0]\n",
    "scans_alpha = scans[:,1]\n",
    "scans_phi = scans[:,2]\n",
    "\n",
    "cart_x = scans_range * np.cos(np.deg2rad(90 - scans_alpha)) * np.cos(np.deg2rad(scans_phi))\n",
    "cart_y = scans_range * np.cos(np.deg2rad(90 - scans_alpha)) * np.sin(np.deg2rad(scans_phi))\n",
    "cart_z = scans_range * np.sin(np.deg2rad(90 - scans_alpha))\n",
    "    \n",
    "scans_cart = np.array([cart_x, cart_y, cart_z]).T\n",
    "scans_cart\n",
    "\n",
    "scans_cart_trans = np.zeros(scans_cart.shape)\n",
    "for x in range(scans_cart.shape[0]):\n",
    "    scans_cart_trans[x] = np.array([t_x, t_y, t_z,]) + r@scans_cart[x]\n",
    "    \n",
    "print(scans_cart_trans)\n",
    "scans_cart_trans = np.hstack((scans_cart_trans, scans_intensity[:, None]))"
   ]
  },
  {
   "cell_type": "code",
   "execution_count": 322,
   "id": "3c192343",
   "metadata": {},
   "outputs": [
    {
     "data": {
      "text/plain": [
       "array([ -5.01    ,  -5.33    ,  -5.58    , ..., -18.639999, -13.59    ,\n",
       "       -17.73    ])"
      ]
     },
     "execution_count": 322,
     "metadata": {},
     "output_type": "execute_result"
    }
   ],
   "source": []
  }
 ],
 "metadata": {
  "kernelspec": {
   "display_name": "Python 3 (ipykernel)",
   "language": "python",
   "name": "python3"
  },
  "language_info": {
   "codemirror_mode": {
    "name": "ipython",
    "version": 3
   },
   "file_extension": ".py",
   "mimetype": "text/x-python",
   "name": "python",
   "nbconvert_exporter": "python",
   "pygments_lexer": "ipython3",
   "version": "3.9.13"
  }
 },
 "nbformat": 4,
 "nbformat_minor": 5
}
