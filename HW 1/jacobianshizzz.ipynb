{
 "cells": [
  {
   "cell_type": "code",
   "execution_count": 39,
   "metadata": {},
   "outputs": [],
   "source": [
    "import numpy as np\n",
    "import sympy as sp\n",
    "import pandas as pd \n",
    "import matplotlib.pyplot as plt\n",
    "\n",
    "from tqdm import tqdm\n",
    "\n",
    "from math import log10"
   ]
  },
  {
   "cell_type": "code",
   "execution_count": 40,
   "metadata": {},
   "outputs": [
    {
     "data": {
      "text/plain": [
       "0.8939966636005579"
      ]
     },
     "execution_count": 40,
     "metadata": {},
     "output_type": "execute_result"
    }
   ],
   "source": [
    "np.sin(90)"
   ]
  },
  {
   "cell_type": "code",
   "execution_count": 41,
   "metadata": {},
   "outputs": [
    {
     "data": {
      "text/html": [
       "<div>\n",
       "<style scoped>\n",
       "    .dataframe tbody tr th:only-of-type {\n",
       "        vertical-align: middle;\n",
       "    }\n",
       "\n",
       "    .dataframe tbody tr th {\n",
       "        vertical-align: top;\n",
       "    }\n",
       "\n",
       "    .dataframe thead th {\n",
       "        text-align: right;\n",
       "    }\n",
       "</style>\n",
       "<table border=\"1\" class=\"dataframe\">\n",
       "  <thead>\n",
       "    <tr style=\"text-align: right;\">\n",
       "      <th></th>\n",
       "      <th>Range</th>\n",
       "      <th>alpha</th>\n",
       "      <th>phi</th>\n",
       "      <th>UTM X</th>\n",
       "      <th>UTM Y</th>\n",
       "      <th>UTM Z</th>\n",
       "    </tr>\n",
       "  </thead>\n",
       "  <tbody>\n",
       "    <tr>\n",
       "      <th>0</th>\n",
       "      <td>4.711</td>\n",
       "      <td>96.024041</td>\n",
       "      <td>209.494500</td>\n",
       "      <td>269958.38</td>\n",
       "      <td>3289284.92</td>\n",
       "      <td>-13.83</td>\n",
       "    </tr>\n",
       "    <tr>\n",
       "      <th>1</th>\n",
       "      <td>32.787</td>\n",
       "      <td>95.302806</td>\n",
       "      <td>12.044494</td>\n",
       "      <td>269994.92</td>\n",
       "      <td>3289291.58</td>\n",
       "      <td>-17.02</td>\n",
       "    </tr>\n",
       "    <tr>\n",
       "      <th>2</th>\n",
       "      <td>36.619</td>\n",
       "      <td>90.571994</td>\n",
       "      <td>292.073653</td>\n",
       "      <td>269973.56</td>\n",
       "      <td>3289251.91</td>\n",
       "      <td>-13.83</td>\n",
       "    </tr>\n",
       "    <tr>\n",
       "      <th>3</th>\n",
       "      <td>47.456</td>\n",
       "      <td>89.747596</td>\n",
       "      <td>338.008476</td>\n",
       "      <td>270005.04</td>\n",
       "      <td>3289265.51</td>\n",
       "      <td>-13.83</td>\n",
       "    </tr>\n",
       "    <tr>\n",
       "      <th>4</th>\n",
       "      <td>68.986</td>\n",
       "      <td>89.333712</td>\n",
       "      <td>27.885113</td>\n",
       "      <td>270026.11</td>\n",
       "      <td>3289313.99</td>\n",
       "      <td>-13.70</td>\n",
       "    </tr>\n",
       "    <tr>\n",
       "      <th>5</th>\n",
       "      <td>80.409</td>\n",
       "      <td>90.014308</td>\n",
       "      <td>2.606140</td>\n",
       "      <td>270043.03</td>\n",
       "      <td>3289283.87</td>\n",
       "      <td>-14.85</td>\n",
       "    </tr>\n",
       "  </tbody>\n",
       "</table>\n",
       "</div>"
      ],
      "text/plain": [
       "    Range      alpha         phi      UTM X       UTM Y  UTM Z\n",
       "0   4.711  96.024041  209.494500  269958.38  3289284.92 -13.83\n",
       "1  32.787  95.302806   12.044494  269994.92  3289291.58 -17.02\n",
       "2  36.619  90.571994  292.073653  269973.56  3289251.91 -13.83\n",
       "3  47.456  89.747596  338.008476  270005.04  3289265.51 -13.83\n",
       "4  68.986  89.333712   27.885113  270026.11  3289313.99 -13.70\n",
       "5  80.409  90.014308    2.606140  270043.03  3289283.87 -14.85"
      ]
     },
     "execution_count": 41,
     "metadata": {},
     "output_type": "execute_result"
    }
   ],
   "source": [
    "range_m = np.array([4.711, 32.787, 36.619, 47.456, 68.986, 80.409])\n",
    "alpha = np.array([96.024041, 95.302806, 90.571994, 89.747596, 89.333712, 90.014308])\n",
    "phi = np.array([209.494500, 12.044494, 292.073653, 338.008476, 27.885113, 2.606140])\n",
    "utmx = np.array([269958.38, 269994.92, 269973.56, 270005.04, 270026.11, 270043.03])\n",
    "utmy = np.array([3289284.92, 3289291.58, 3289251.91, 3289265.51, 3289313.99, 3289283.87])\n",
    "utmz = np.array([-13.83, -17.02, -13.83, -13.83, -13.70, -14.85])\n",
    "\n",
    "tie_points = pd.DataFrame({'Range': range_m, 'alpha': alpha, 'phi': phi, 'UTM X': utmx, 'UTM Y': utmy, 'UTM Z': utmz})\n",
    "tie_points"
   ]
  },
  {
   "cell_type": "code",
   "execution_count": 4,
   "metadata": {},
   "outputs": [
    {
     "ename": "FileNotFoundError",
     "evalue": "[Errno 2] No such file or directory: 'tiepoints.xlsx'",
     "output_type": "error",
     "traceback": [
      "\u001b[1;31m---------------------------------------------------------------------------\u001b[0m",
      "\u001b[1;31mFileNotFoundError\u001b[0m                         Traceback (most recent call last)",
      "\u001b[1;32m~\\AppData\\Local\\Temp\\ipykernel_4220\\3334925192.py\u001b[0m in \u001b[0;36m<module>\u001b[1;34m\u001b[0m\n\u001b[0;32m      1\u001b[0m \u001b[1;31m#Read the tiepoints file\u001b[0m\u001b[1;33m\u001b[0m\u001b[1;33m\u001b[0m\u001b[0m\n\u001b[1;32m----> 2\u001b[1;33m \u001b[0mtie_points\u001b[0m \u001b[1;33m=\u001b[0m \u001b[0mpd\u001b[0m\u001b[1;33m.\u001b[0m\u001b[0mread_excel\u001b[0m\u001b[1;33m(\u001b[0m\u001b[1;34m'tiepoints.xlsx'\u001b[0m\u001b[1;33m)\u001b[0m\u001b[1;33m\u001b[0m\u001b[1;33m\u001b[0m\u001b[0m\n\u001b[0m\u001b[0;32m      3\u001b[0m \u001b[0mtie_points\u001b[0m\u001b[1;33m\u001b[0m\u001b[1;33m\u001b[0m\u001b[0m\n",
      "\u001b[1;32m~\\anaconda3\\lib\\site-packages\\pandas\\util\\_decorators.py\u001b[0m in \u001b[0;36mwrapper\u001b[1;34m(*args, **kwargs)\u001b[0m\n\u001b[0;32m    309\u001b[0m                     \u001b[0mstacklevel\u001b[0m\u001b[1;33m=\u001b[0m\u001b[0mstacklevel\u001b[0m\u001b[1;33m,\u001b[0m\u001b[1;33m\u001b[0m\u001b[1;33m\u001b[0m\u001b[0m\n\u001b[0;32m    310\u001b[0m                 )\n\u001b[1;32m--> 311\u001b[1;33m             \u001b[1;32mreturn\u001b[0m \u001b[0mfunc\u001b[0m\u001b[1;33m(\u001b[0m\u001b[1;33m*\u001b[0m\u001b[0margs\u001b[0m\u001b[1;33m,\u001b[0m \u001b[1;33m**\u001b[0m\u001b[0mkwargs\u001b[0m\u001b[1;33m)\u001b[0m\u001b[1;33m\u001b[0m\u001b[1;33m\u001b[0m\u001b[0m\n\u001b[0m\u001b[0;32m    312\u001b[0m \u001b[1;33m\u001b[0m\u001b[0m\n\u001b[0;32m    313\u001b[0m         \u001b[1;32mreturn\u001b[0m \u001b[0mwrapper\u001b[0m\u001b[1;33m\u001b[0m\u001b[1;33m\u001b[0m\u001b[0m\n",
      "\u001b[1;32m~\\anaconda3\\lib\\site-packages\\pandas\\io\\excel\\_base.py\u001b[0m in \u001b[0;36mread_excel\u001b[1;34m(io, sheet_name, header, names, index_col, usecols, squeeze, dtype, engine, converters, true_values, false_values, skiprows, nrows, na_values, keep_default_na, na_filter, verbose, parse_dates, date_parser, thousands, decimal, comment, skipfooter, convert_float, mangle_dupe_cols, storage_options)\u001b[0m\n\u001b[0;32m    455\u001b[0m     \u001b[1;32mif\u001b[0m \u001b[1;32mnot\u001b[0m \u001b[0misinstance\u001b[0m\u001b[1;33m(\u001b[0m\u001b[0mio\u001b[0m\u001b[1;33m,\u001b[0m \u001b[0mExcelFile\u001b[0m\u001b[1;33m)\u001b[0m\u001b[1;33m:\u001b[0m\u001b[1;33m\u001b[0m\u001b[1;33m\u001b[0m\u001b[0m\n\u001b[0;32m    456\u001b[0m         \u001b[0mshould_close\u001b[0m \u001b[1;33m=\u001b[0m \u001b[1;32mTrue\u001b[0m\u001b[1;33m\u001b[0m\u001b[1;33m\u001b[0m\u001b[0m\n\u001b[1;32m--> 457\u001b[1;33m         \u001b[0mio\u001b[0m \u001b[1;33m=\u001b[0m \u001b[0mExcelFile\u001b[0m\u001b[1;33m(\u001b[0m\u001b[0mio\u001b[0m\u001b[1;33m,\u001b[0m \u001b[0mstorage_options\u001b[0m\u001b[1;33m=\u001b[0m\u001b[0mstorage_options\u001b[0m\u001b[1;33m,\u001b[0m \u001b[0mengine\u001b[0m\u001b[1;33m=\u001b[0m\u001b[0mengine\u001b[0m\u001b[1;33m)\u001b[0m\u001b[1;33m\u001b[0m\u001b[1;33m\u001b[0m\u001b[0m\n\u001b[0m\u001b[0;32m    458\u001b[0m     \u001b[1;32melif\u001b[0m \u001b[0mengine\u001b[0m \u001b[1;32mand\u001b[0m \u001b[0mengine\u001b[0m \u001b[1;33m!=\u001b[0m \u001b[0mio\u001b[0m\u001b[1;33m.\u001b[0m\u001b[0mengine\u001b[0m\u001b[1;33m:\u001b[0m\u001b[1;33m\u001b[0m\u001b[1;33m\u001b[0m\u001b[0m\n\u001b[0;32m    459\u001b[0m         raise ValueError(\n",
      "\u001b[1;32m~\\anaconda3\\lib\\site-packages\\pandas\\io\\excel\\_base.py\u001b[0m in \u001b[0;36m__init__\u001b[1;34m(self, path_or_buffer, engine, storage_options)\u001b[0m\n\u001b[0;32m   1374\u001b[0m                 \u001b[0mext\u001b[0m \u001b[1;33m=\u001b[0m \u001b[1;34m\"xls\"\u001b[0m\u001b[1;33m\u001b[0m\u001b[1;33m\u001b[0m\u001b[0m\n\u001b[0;32m   1375\u001b[0m             \u001b[1;32melse\u001b[0m\u001b[1;33m:\u001b[0m\u001b[1;33m\u001b[0m\u001b[1;33m\u001b[0m\u001b[0m\n\u001b[1;32m-> 1376\u001b[1;33m                 ext = inspect_excel_format(\n\u001b[0m\u001b[0;32m   1377\u001b[0m                     \u001b[0mcontent_or_path\u001b[0m\u001b[1;33m=\u001b[0m\u001b[0mpath_or_buffer\u001b[0m\u001b[1;33m,\u001b[0m \u001b[0mstorage_options\u001b[0m\u001b[1;33m=\u001b[0m\u001b[0mstorage_options\u001b[0m\u001b[1;33m\u001b[0m\u001b[1;33m\u001b[0m\u001b[0m\n\u001b[0;32m   1378\u001b[0m                 )\n",
      "\u001b[1;32m~\\anaconda3\\lib\\site-packages\\pandas\\io\\excel\\_base.py\u001b[0m in \u001b[0;36minspect_excel_format\u001b[1;34m(content_or_path, storage_options)\u001b[0m\n\u001b[0;32m   1248\u001b[0m         \u001b[0mcontent_or_path\u001b[0m \u001b[1;33m=\u001b[0m \u001b[0mBytesIO\u001b[0m\u001b[1;33m(\u001b[0m\u001b[0mcontent_or_path\u001b[0m\u001b[1;33m)\u001b[0m\u001b[1;33m\u001b[0m\u001b[1;33m\u001b[0m\u001b[0m\n\u001b[0;32m   1249\u001b[0m \u001b[1;33m\u001b[0m\u001b[0m\n\u001b[1;32m-> 1250\u001b[1;33m     with get_handle(\n\u001b[0m\u001b[0;32m   1251\u001b[0m         \u001b[0mcontent_or_path\u001b[0m\u001b[1;33m,\u001b[0m \u001b[1;34m\"rb\"\u001b[0m\u001b[1;33m,\u001b[0m \u001b[0mstorage_options\u001b[0m\u001b[1;33m=\u001b[0m\u001b[0mstorage_options\u001b[0m\u001b[1;33m,\u001b[0m \u001b[0mis_text\u001b[0m\u001b[1;33m=\u001b[0m\u001b[1;32mFalse\u001b[0m\u001b[1;33m\u001b[0m\u001b[1;33m\u001b[0m\u001b[0m\n\u001b[0;32m   1252\u001b[0m     ) as handle:\n",
      "\u001b[1;32m~\\anaconda3\\lib\\site-packages\\pandas\\io\\common.py\u001b[0m in \u001b[0;36mget_handle\u001b[1;34m(path_or_buf, mode, encoding, compression, memory_map, is_text, errors, storage_options)\u001b[0m\n\u001b[0;32m    793\u001b[0m         \u001b[1;32melse\u001b[0m\u001b[1;33m:\u001b[0m\u001b[1;33m\u001b[0m\u001b[1;33m\u001b[0m\u001b[0m\n\u001b[0;32m    794\u001b[0m             \u001b[1;31m# Binary mode\u001b[0m\u001b[1;33m\u001b[0m\u001b[1;33m\u001b[0m\u001b[0m\n\u001b[1;32m--> 795\u001b[1;33m             \u001b[0mhandle\u001b[0m \u001b[1;33m=\u001b[0m \u001b[0mopen\u001b[0m\u001b[1;33m(\u001b[0m\u001b[0mhandle\u001b[0m\u001b[1;33m,\u001b[0m \u001b[0mioargs\u001b[0m\u001b[1;33m.\u001b[0m\u001b[0mmode\u001b[0m\u001b[1;33m)\u001b[0m\u001b[1;33m\u001b[0m\u001b[1;33m\u001b[0m\u001b[0m\n\u001b[0m\u001b[0;32m    796\u001b[0m         \u001b[0mhandles\u001b[0m\u001b[1;33m.\u001b[0m\u001b[0mappend\u001b[0m\u001b[1;33m(\u001b[0m\u001b[0mhandle\u001b[0m\u001b[1;33m)\u001b[0m\u001b[1;33m\u001b[0m\u001b[1;33m\u001b[0m\u001b[0m\n\u001b[0;32m    797\u001b[0m \u001b[1;33m\u001b[0m\u001b[0m\n",
      "\u001b[1;31mFileNotFoundError\u001b[0m: [Errno 2] No such file or directory: 'tiepoints.xlsx'"
     ]
    }
   ],
   "source": [
    "#Read the tiepoints file\n",
    "tie_points = pd.read_excel('tiepoints.xlsx')\n",
    "tie_points"
   ]
  },
  {
   "cell_type": "code",
   "execution_count": 42,
   "metadata": {},
   "outputs": [
    {
     "name": "stdout",
     "output_type": "stream",
     "text": [
      "Modified amount: [0.106 0.106 0.106 0.106 0.106 0.056]\n",
      "    Range      alpha         phi      UTM X       UTM Y  UTM Z  mod UTM Z\n",
      "0   4.711  96.024041  209.494500  269958.38  3289284.92 -13.83    -13.936\n",
      "1  32.787  95.302806   12.044494  269994.92  3289291.58 -17.02    -17.126\n",
      "2  36.619  90.571994  292.073653  269973.56  3289251.91 -13.83    -13.936\n",
      "3  47.456  89.747596  338.008476  270005.04  3289265.51 -13.83    -13.936\n",
      "4  68.986  89.333712   27.885113  270026.11  3289313.99 -13.70    -13.806\n",
      "5  80.409  90.014308    2.606140  270043.03  3289283.87 -14.85    -14.906\n"
     ]
    }
   ],
   "source": [
    "#modify UTM Z\n",
    "modified_amount = np.array( [0.106]*5 + [0.056])\n",
    "print(f\"Modified amount: {modified_amount}\")\n",
    "tie_points['mod UTM Z'] = tie_points['UTM Z'] - modified_amount\n",
    "print(tie_points)"
   ]
  },
  {
   "cell_type": "code",
   "execution_count": 43,
   "metadata": {},
   "outputs": [],
   "source": [
    "#Calculate the average of UTM coordinates\n",
    "avg_utm_x = tie_points['UTM X'].mean()\n",
    "avg_utm_y = tie_points['UTM Y'].mean()\n",
    "avg_utm_z = tie_points['mod UTM Z'].mean()"
   ]
  },
  {
   "cell_type": "code",
   "execution_count": 44,
   "metadata": {},
   "outputs": [],
   "source": [
    "def curv2cartesian(range, alpha, phi):\n",
    "    theta = np.deg2rad(90- alpha)\n",
    "    phi = np.deg2rad(phi)\n",
    "    \n",
    "    x = range * np.cos(theta) * np.cos(phi)\n",
    "    y = range * np.cos(theta) * np.sin(phi)\n",
    "    z = range * np.sin(theta)\n",
    "    return x, y, z"
   ]
  },
  {
   "cell_type": "code",
   "execution_count": 45,
   "metadata": {},
   "outputs": [
    {
     "name": "stdout",
     "output_type": "stream",
     "text": [
      "    Range      alpha         phi      UTM X       UTM Y  UTM Z  mod UTM Z  \\\n",
      "0   4.711  96.024041  209.494500  269958.38  3289284.92 -13.83    -13.936   \n",
      "1  32.787  95.302806   12.044494  269994.92  3289291.58 -17.02    -17.126   \n",
      "2  36.619  90.571994  292.073653  269973.56  3289251.91 -13.83    -13.936   \n",
      "3  47.456  89.747596  338.008476  270005.04  3289265.51 -13.83    -13.936   \n",
      "4  68.986  89.333712   27.885113  270026.11  3289313.99 -13.70    -13.806   \n",
      "5  80.409  90.014308    2.606140  270043.03  3289283.87 -14.85    -14.906   \n",
      "\n",
      "          Xb         Yb        Zb  \n",
      "0  -4.077825  -2.306606 -0.494399  \n",
      "1  31.927988   6.812422 -3.030153  \n",
      "2  13.760667 -33.933193 -0.365568  \n",
      "3  44.002639 -17.770649  0.209056  \n",
      "4  60.971718  32.262582  0.802215  \n",
      "5  80.325831   3.656200 -0.020080  \n"
     ]
    }
   ],
   "source": [
    "#Calcalulate Xb, Yb, Zb\n",
    "tie_points['Xb'] , tie_points['Yb'], tie_points['Zb'] = curv2cartesian(tie_points['Range'], tie_points['alpha'], tie_points['phi'])\n",
    "print(tie_points)\n"
   ]
  },
  {
   "cell_type": "code",
   "execution_count": 46,
   "metadata": {},
   "outputs": [],
   "source": [
    "#Declare tx, ty, tz and ex, ey, ez as symbolics\n",
    "tx, ty, tz, ex, ey, ez = sp.symbols('tx ty tz ex ey ez')"
   ]
  },
  {
   "cell_type": "code",
   "execution_count": 47,
   "metadata": {},
   "outputs": [],
   "source": [
    "#Define 3 euler angle rotation matrices with ex, ey, ez\n",
    "Rx = sp.Matrix([[1, 0, 0], [0, sp.cos(ex), sp.sin(ex)], [0, -sp.sin(ex), sp.cos(ex)]])\n",
    "Ry = sp.Matrix([[sp.cos(ey), 0, -sp.sin(ey)], [0, 1, 0], [sp.sin(ey), 0, sp.cos(ey)]])\n",
    "Rz = sp.Matrix([[sp.cos(ez), sp.sin(ez), 0], [-sp.sin(ez), sp.cos(ez), 0], [0, 0, 1]])"
   ]
  },
  {
   "cell_type": "code",
   "execution_count": 48,
   "metadata": {},
   "outputs": [
    {
     "data": {
      "text/latex": [
       "$\\displaystyle \\left[\\begin{matrix}1 & 0 & 0\\\\0 & \\cos{\\left(ex \\right)} & \\sin{\\left(ex \\right)}\\\\0 & - \\sin{\\left(ex \\right)} & \\cos{\\left(ex \\right)}\\end{matrix}\\right]$"
      ],
      "text/plain": [
       "Matrix([\n",
       "[1,        0,       0],\n",
       "[0,  cos(ex), sin(ex)],\n",
       "[0, -sin(ex), cos(ex)]])"
      ]
     },
     "execution_count": 48,
     "metadata": {},
     "output_type": "execute_result"
    }
   ],
   "source": [
    "Rx"
   ]
  },
  {
   "cell_type": "code",
   "execution_count": 49,
   "metadata": {},
   "outputs": [
    {
     "data": {
      "text/latex": [
       "$\\displaystyle \\left[\\begin{matrix}\\cos{\\left(ey \\right)} & 0 & - \\sin{\\left(ey \\right)}\\\\0 & 1 & 0\\\\\\sin{\\left(ey \\right)} & 0 & \\cos{\\left(ey \\right)}\\end{matrix}\\right]$"
      ],
      "text/plain": [
       "Matrix([\n",
       "[cos(ey), 0, -sin(ey)],\n",
       "[      0, 1,        0],\n",
       "[sin(ey), 0,  cos(ey)]])"
      ]
     },
     "execution_count": 49,
     "metadata": {},
     "output_type": "execute_result"
    }
   ],
   "source": [
    "Ry"
   ]
  },
  {
   "cell_type": "code",
   "execution_count": 50,
   "metadata": {},
   "outputs": [
    {
     "data": {
      "text/latex": [
       "$\\displaystyle \\left[\\begin{matrix}\\cos{\\left(ez \\right)} & \\sin{\\left(ez \\right)} & 0\\\\- \\sin{\\left(ez \\right)} & \\cos{\\left(ez \\right)} & 0\\\\0 & 0 & 1\\end{matrix}\\right]$"
      ],
      "text/plain": [
       "Matrix([\n",
       "[ cos(ez), sin(ez), 0],\n",
       "[-sin(ez), cos(ez), 0],\n",
       "[       0,       0, 1]])"
      ]
     },
     "execution_count": 50,
     "metadata": {},
     "output_type": "execute_result"
    }
   ],
   "source": [
    "Rz"
   ]
  },
  {
   "cell_type": "code",
   "execution_count": 51,
   "metadata": {},
   "outputs": [
    {
     "data": {
      "text/latex": [
       "$\\displaystyle \\left[\\begin{matrix}\\cos{\\left(ey \\right)} \\cos{\\left(ez \\right)} & \\sin{\\left(ez \\right)} \\cos{\\left(ey \\right)} & - \\sin{\\left(ey \\right)}\\\\\\sin{\\left(ex \\right)} \\sin{\\left(ey \\right)} \\cos{\\left(ez \\right)} - \\sin{\\left(ez \\right)} \\cos{\\left(ex \\right)} & \\sin{\\left(ex \\right)} \\sin{\\left(ey \\right)} \\sin{\\left(ez \\right)} + \\cos{\\left(ex \\right)} \\cos{\\left(ez \\right)} & \\sin{\\left(ex \\right)} \\cos{\\left(ey \\right)}\\\\\\sin{\\left(ex \\right)} \\sin{\\left(ez \\right)} + \\sin{\\left(ey \\right)} \\cos{\\left(ex \\right)} \\cos{\\left(ez \\right)} & - \\sin{\\left(ex \\right)} \\cos{\\left(ez \\right)} + \\sin{\\left(ey \\right)} \\sin{\\left(ez \\right)} \\cos{\\left(ex \\right)} & \\cos{\\left(ex \\right)} \\cos{\\left(ey \\right)}\\end{matrix}\\right]$"
      ],
      "text/plain": [
       "Matrix([\n",
       "[                          cos(ey)*cos(ez),                            sin(ez)*cos(ey),        -sin(ey)],\n",
       "[sin(ex)*sin(ey)*cos(ez) - sin(ez)*cos(ex),  sin(ex)*sin(ey)*sin(ez) + cos(ex)*cos(ez), sin(ex)*cos(ey)],\n",
       "[sin(ex)*sin(ez) + sin(ey)*cos(ex)*cos(ez), -sin(ex)*cos(ez) + sin(ey)*sin(ez)*cos(ex), cos(ex)*cos(ey)]])"
      ]
     },
     "execution_count": 51,
     "metadata": {},
     "output_type": "execute_result"
    }
   ],
   "source": [
    "R = Rx * Ry * Rz\n",
    "R"
   ]
  },
  {
   "cell_type": "code",
   "execution_count": 52,
   "metadata": {},
   "outputs": [],
   "source": [
    "#Define symbolic variables for the body coordinates\n",
    "xb, yb, zb = sp.symbols('xb yb zb')"
   ]
  },
  {
   "cell_type": "code",
   "execution_count": 53,
   "metadata": {},
   "outputs": [
    {
     "data": {
      "text/latex": [
       "$\\displaystyle \\left[\\begin{matrix}tx + xb \\cos{\\left(ey \\right)} \\cos{\\left(ez \\right)} + yb \\sin{\\left(ez \\right)} \\cos{\\left(ey \\right)} - zb \\sin{\\left(ey \\right)}\\\\ty + xb \\left(\\sin{\\left(ex \\right)} \\sin{\\left(ey \\right)} \\cos{\\left(ez \\right)} - \\sin{\\left(ez \\right)} \\cos{\\left(ex \\right)}\\right) + yb \\left(\\sin{\\left(ex \\right)} \\sin{\\left(ey \\right)} \\sin{\\left(ez \\right)} + \\cos{\\left(ex \\right)} \\cos{\\left(ez \\right)}\\right) + zb \\sin{\\left(ex \\right)} \\cos{\\left(ey \\right)}\\\\tz + xb \\left(\\sin{\\left(ex \\right)} \\sin{\\left(ez \\right)} + \\sin{\\left(ey \\right)} \\cos{\\left(ex \\right)} \\cos{\\left(ez \\right)}\\right) + yb \\left(- \\sin{\\left(ex \\right)} \\cos{\\left(ez \\right)} + \\sin{\\left(ey \\right)} \\sin{\\left(ez \\right)} \\cos{\\left(ex \\right)}\\right) + zb \\cos{\\left(ex \\right)} \\cos{\\left(ey \\right)}\\end{matrix}\\right]$"
      ],
      "text/plain": [
       "Matrix([\n",
       "[                                                                 tx + xb*cos(ey)*cos(ez) + yb*sin(ez)*cos(ey) - zb*sin(ey)],\n",
       "[ ty + xb*(sin(ex)*sin(ey)*cos(ez) - sin(ez)*cos(ex)) + yb*(sin(ex)*sin(ey)*sin(ez) + cos(ex)*cos(ez)) + zb*sin(ex)*cos(ey)],\n",
       "[tz + xb*(sin(ex)*sin(ez) + sin(ey)*cos(ex)*cos(ez)) + yb*(-sin(ex)*cos(ez) + sin(ey)*sin(ez)*cos(ex)) + zb*cos(ex)*cos(ey)]])"
      ]
     },
     "execution_count": 53,
     "metadata": {},
     "output_type": "execute_result"
    }
   ],
   "source": [
    "#Define rigid body transformation matrix\n",
    "r_global = sp.Matrix([tx, ty, tz]) +R*sp.Matrix([xb, yb, zb])\n",
    "r_global"
   ]
  },
  {
   "cell_type": "code",
   "execution_count": 54,
   "metadata": {},
   "outputs": [
    {
     "data": {
      "text/latex": [
       "$\\displaystyle \\left[\\begin{matrix}1 & 0 & 0 & 0 & - xb \\sin{\\left(ey \\right)} \\cos{\\left(ez \\right)} - yb \\sin{\\left(ey \\right)} \\sin{\\left(ez \\right)} - zb \\cos{\\left(ey \\right)} & - xb \\sin{\\left(ez \\right)} \\cos{\\left(ey \\right)} + yb \\cos{\\left(ey \\right)} \\cos{\\left(ez \\right)}\\\\0 & 1 & 0 & xb \\left(\\sin{\\left(ex \\right)} \\sin{\\left(ez \\right)} + \\sin{\\left(ey \\right)} \\cos{\\left(ex \\right)} \\cos{\\left(ez \\right)}\\right) + yb \\left(- \\sin{\\left(ex \\right)} \\cos{\\left(ez \\right)} + \\sin{\\left(ey \\right)} \\sin{\\left(ez \\right)} \\cos{\\left(ex \\right)}\\right) + zb \\cos{\\left(ex \\right)} \\cos{\\left(ey \\right)} & xb \\sin{\\left(ex \\right)} \\cos{\\left(ey \\right)} \\cos{\\left(ez \\right)} + yb \\sin{\\left(ex \\right)} \\sin{\\left(ez \\right)} \\cos{\\left(ey \\right)} - zb \\sin{\\left(ex \\right)} \\sin{\\left(ey \\right)} & xb \\left(- \\sin{\\left(ex \\right)} \\sin{\\left(ey \\right)} \\sin{\\left(ez \\right)} - \\cos{\\left(ex \\right)} \\cos{\\left(ez \\right)}\\right) + yb \\left(\\sin{\\left(ex \\right)} \\sin{\\left(ey \\right)} \\cos{\\left(ez \\right)} - \\sin{\\left(ez \\right)} \\cos{\\left(ex \\right)}\\right)\\\\0 & 0 & 1 & xb \\left(- \\sin{\\left(ex \\right)} \\sin{\\left(ey \\right)} \\cos{\\left(ez \\right)} + \\sin{\\left(ez \\right)} \\cos{\\left(ex \\right)}\\right) + yb \\left(- \\sin{\\left(ex \\right)} \\sin{\\left(ey \\right)} \\sin{\\left(ez \\right)} - \\cos{\\left(ex \\right)} \\cos{\\left(ez \\right)}\\right) - zb \\sin{\\left(ex \\right)} \\cos{\\left(ey \\right)} & xb \\cos{\\left(ex \\right)} \\cos{\\left(ey \\right)} \\cos{\\left(ez \\right)} + yb \\sin{\\left(ez \\right)} \\cos{\\left(ex \\right)} \\cos{\\left(ey \\right)} - zb \\sin{\\left(ey \\right)} \\cos{\\left(ex \\right)} & xb \\left(\\sin{\\left(ex \\right)} \\cos{\\left(ez \\right)} - \\sin{\\left(ey \\right)} \\sin{\\left(ez \\right)} \\cos{\\left(ex \\right)}\\right) + yb \\left(\\sin{\\left(ex \\right)} \\sin{\\left(ez \\right)} + \\sin{\\left(ey \\right)} \\cos{\\left(ex \\right)} \\cos{\\left(ez \\right)}\\right)\\end{matrix}\\right]$"
      ],
      "text/plain": [
       "Matrix([\n",
       "[1, 0, 0,                                                                                                                      0,                        -xb*sin(ey)*cos(ez) - yb*sin(ey)*sin(ez) - zb*cos(ey),                                                         -xb*sin(ez)*cos(ey) + yb*cos(ey)*cos(ez)],\n",
       "[0, 1, 0,  xb*(sin(ex)*sin(ez) + sin(ey)*cos(ex)*cos(ez)) + yb*(-sin(ex)*cos(ez) + sin(ey)*sin(ez)*cos(ex)) + zb*cos(ex)*cos(ey), xb*sin(ex)*cos(ey)*cos(ez) + yb*sin(ex)*sin(ez)*cos(ey) - zb*sin(ex)*sin(ey), xb*(-sin(ex)*sin(ey)*sin(ez) - cos(ex)*cos(ez)) + yb*(sin(ex)*sin(ey)*cos(ez) - sin(ez)*cos(ex))],\n",
       "[0, 0, 1, xb*(-sin(ex)*sin(ey)*cos(ez) + sin(ez)*cos(ex)) + yb*(-sin(ex)*sin(ey)*sin(ez) - cos(ex)*cos(ez)) - zb*sin(ex)*cos(ey), xb*cos(ex)*cos(ey)*cos(ez) + yb*sin(ez)*cos(ex)*cos(ey) - zb*sin(ey)*cos(ex),  xb*(sin(ex)*cos(ez) - sin(ey)*sin(ez)*cos(ex)) + yb*(sin(ex)*sin(ez) + sin(ey)*cos(ex)*cos(ez))]])"
      ]
     },
     "execution_count": 54,
     "metadata": {},
     "output_type": "execute_result"
    }
   ],
   "source": [
    "#Define jacobian matrix of r_global\n",
    "A = r_global.jacobian([tx, ty, tz, ex, ey, ez])\n",
    "A"
   ]
  },
  {
   "cell_type": "code",
   "execution_count": 55,
   "metadata": {},
   "outputs": [],
   "source": [
    "#Define a function to calulate the jacobian matrix with respect to the given euler angles and translation parameters\n",
    "jacobian_f = sp.lambdify((tx, ty, tz, ex, ey, ez, xb, yb, zb), A, 'numpy')"
   ]
  },
  {
   "cell_type": "code",
   "execution_count": 56,
   "metadata": {},
   "outputs": [],
   "source": [
    "#Define a function to calulate the rotation matrix with respect to the given euler angles\n",
    "R_f = sp.lambdify((ex, ey, ez), R, 'numpy')"
   ]
  },
  {
   "cell_type": "code",
   "execution_count": 57,
   "metadata": {},
   "outputs": [
    {
     "name": "stdout",
     "output_type": "stream",
     "text": [
      "[[-4.07782535e+00 -2.30660586e+00 -4.94399429e-01]\n",
      " [ 3.19279884e+01  6.81242215e+00 -3.03015329e+00]\n",
      " [ 1.37606673e+01 -3.39331925e+01 -3.65567945e-01]\n",
      " [ 4.40026394e+01 -1.77706487e+01  2.09056332e-01]\n",
      " [ 6.09717182e+01  3.22625825e+01  8.02214550e-01]\n",
      " [ 8.03258307e+01  3.65620039e+00 -2.00798727e-02]]\n"
     ]
    }
   ],
   "source": [
    "#Get the values of the body coordinate from tie_points dataframe and convert into numpy array\n",
    "xb = tie_points['Xb'].values\n",
    "yb = tie_points['Yb'].values\n",
    "zb = tie_points['Zb'].values \n",
    "\n",
    "body_coords = np.array([xb, yb, zb]).T\n",
    "print(body_coords)"
   ]
  },
  {
   "cell_type": "code",
   "execution_count": 72,
   "metadata": {},
   "outputs": [
    {
     "name": "stdout",
     "output_type": "stream",
     "text": [
      "[[ 2.69958380e+05  3.28928492e+06 -1.39360000e+01]\n",
      " [ 2.69994920e+05  3.28929158e+06 -1.71260000e+01]\n",
      " [ 2.69973560e+05  3.28925191e+06 -1.39360000e+01]\n",
      " [ 2.70005040e+05  3.28926551e+06 -1.39360000e+01]\n",
      " [ 2.70026110e+05  3.28931399e+06 -1.38060000e+01]\n",
      " [ 2.70043030e+05  3.28928387e+06 -1.49060000e+01]]\n"
     ]
    }
   ],
   "source": [
    "#Get the values of the UTM coordinate from tie_points dataframe and convert into numpy array\n",
    "x_utm = tie_points['UTM X'].values\n",
    "y_utm = tie_points['UTM Y'].values\n",
    "z_utm = tie_points['mod UTM Z'].values\n",
    "\n",
    "utm_coords = np.array([x_utm, y_utm, z_utm]).T\n",
    "print(utm_coords)"
   ]
  },
  {
   "cell_type": "code",
   "execution_count": 112,
   "metadata": {},
   "outputs": [],
   "source": [
    "#initial guess for the translation parameters and euler angles\n",
    "tx_scalar = avg_utm_x\n",
    "ty_scalar = avg_utm_y\n",
    "tz_scalar = avg_utm_z\n",
    "ex_scalar = 0\n",
    "ey_scalar = 0\n",
    "ez_scaler = 0"
   ]
  },
  {
   "cell_type": "code",
   "execution_count": 90,
   "metadata": {},
   "outputs": [
    {
     "name": "stdout",
     "output_type": "stream",
     "text": [
      "Initial guess for tx, ty, tz, ex, ey, ez: (270000.1733333334, 3289281.9633333334, -14.607666666666669, 0, 0, 0)\n"
     ]
    }
   ],
   "source": [
    "print(f\"Initial guess for tx, ty, tz, ex, ey, ez: {tx_scalar, ty_scalar, tz_scalar, ex_scalar, ey_scalar, ez_scaler}\")"
   ]
  },
  {
   "cell_type": "code",
   "execution_count": 91,
   "metadata": {},
   "outputs": [],
   "source": [
    "def log_transform(x):\n",
    "    if x>=0:\n",
    "        return log10(x)\n",
    "    else:\n",
    "        return -log10(-x)"
   ]
  },
  {
   "cell_type": "code",
   "execution_count": 113,
   "metadata": {},
   "outputs": [
    {
     "name": "stderr",
     "output_type": "stream",
     "text": [
      "100%|████████████████████████████████████████████████████████████████████████████████| 10/10 [00:00<00:00, 1428.48it/s]"
     ]
    },
    {
     "name": "stdout",
     "output_type": "stream",
     "text": [
      "Solving iteration:  1\n",
      "trans [ 2.70000173e+05  3.28928196e+06 -1.46076667e+01]\n",
      "[-3.77155080e+01  5.26327253e+00  1.16606610e+00 -3.71813218e+01\n",
      "  2.80424452e+00  5.11819957e-01 -4.03740007e+01  3.87985921e+00\n",
      "  1.03723461e+00 -3.91359728e+01  1.31731537e+00  4.62610335e-01\n",
      " -3.50350515e+01 -2.35915823e-01 -5.47883652e-04 -3.74691640e+01\n",
      " -1.74953373e+00 -2.78253461e-01]\n",
      "Solving iteration:  2\n",
      "trans [ 2.69962519e+05  3.28928699e+06 -1.34930852e+01]\n",
      "[ 0.12375525 -0.10962556 -0.02700485  0.07271616  0.46537595 -0.04304886\n",
      "  0.15481209 -0.11994814 -0.01237137  0.14924341 -0.11383838 -0.00987475\n",
      "  0.14453052 -0.08460513  0.04682183  0.17054748 -0.08540821 -0.04806625]\n",
      "Solving iteration:  3\n",
      "trans [ 2.69962656e+05  3.28928698e+06 -1.34902616e+01]\n",
      "[-0.01239531 -0.10080937 -0.02825798 -0.06251571  0.46974777 -0.04223532\n",
      "  0.01880895 -0.11112882  0.03863051  0.01318375 -0.10488612  0.03081401\n",
      "  0.00824093 -0.07541418  0.0236633   0.03468734 -0.07763762 -0.02262043]\n",
      "Solving iteration:  4\n",
      "trans [ 2.69962656e+05  3.28928698e+06 -1.34903683e+01]\n",
      "[-0.0123958  -0.1007957  -0.02815337 -0.06252332  0.46978257 -0.04217229\n",
      "  0.01881132 -0.1111134   0.03851867  0.0131849  -0.10486788  0.03071325\n",
      "  0.00823796 -0.0753948   0.02379068  0.03468493 -0.0776108  -0.02269694]\n",
      "Solving iteration:  5\n",
      "trans [ 2.69962656e+05  3.28928698e+06 -1.34903679e+01]\n",
      "[-0.0123958  -0.10079568 -0.02815381 -0.06252329  0.46978252 -0.04217254\n",
      "  0.01881131 -0.11111338  0.03851911  0.01318489 -0.10486787  0.03071366\n",
      "  0.00823796 -0.07539479  0.02379018  0.03468493 -0.07761081 -0.02269661]\n",
      "Solving iteration:  6\n",
      "trans [ 2.69962656e+05  3.28928698e+06 -1.34903679e+01]\n",
      "[-0.0123958  -0.10079568 -0.0281538  -0.06252329  0.46978252 -0.04217254\n",
      "  0.01881131 -0.11111338  0.03851911  0.01318489 -0.10486787  0.03071366\n",
      "  0.00823796 -0.07539479  0.02379018  0.03468493 -0.07761081 -0.02269661]\n",
      "Solving iteration:  7\n",
      "trans [ 2.69962656e+05  3.28928698e+06 -1.34903679e+01]\n",
      "[-0.0123958  -0.10079568 -0.0281538  -0.06252329  0.46978252 -0.04217254\n",
      "  0.01881131 -0.11111338  0.03851911  0.01318489 -0.10486787  0.03071366\n",
      "  0.00823796 -0.07539479  0.02379018  0.03468493 -0.07761081 -0.02269661]\n",
      "Solving iteration:  8\n",
      "trans [ 2.69962656e+05  3.28928698e+06 -1.34903679e+01]\n",
      "[-0.0123958  -0.10079568 -0.0281538  -0.06252329  0.46978252 -0.04217254\n",
      "  0.01881131 -0.11111338  0.03851911  0.01318489 -0.10486787  0.03071366\n",
      "  0.00823796 -0.07539479  0.02379018  0.03468493 -0.07761081 -0.02269661]\n",
      "Solving iteration:  9\n",
      "trans [ 2.69962656e+05  3.28928698e+06 -1.34903679e+01]\n",
      "[-0.0123958  -0.10079568 -0.0281538  -0.06252329  0.46978252 -0.04217254\n",
      "  0.01881131 -0.11111338  0.03851911  0.01318489 -0.10486787  0.03071366\n",
      "  0.00823796 -0.07539479  0.02379018  0.03468493 -0.07761081 -0.02269661]\n",
      "Solving iteration:  10\n",
      "trans [ 2.69962656e+05  3.28928698e+06 -1.34903679e+01]\n",
      "[-0.0123958  -0.10079568 -0.0281538  -0.06252329  0.46978252 -0.04217254\n",
      "  0.01881131 -0.11111338  0.03851911  0.01318489 -0.10486787  0.03071366\n",
      "  0.00823796 -0.07539479  0.02379018  0.03468493 -0.07761081 -0.02269661]\n"
     ]
    },
    {
     "name": "stderr",
     "output_type": "stream",
     "text": [
      "\n"
     ]
    }
   ],
   "source": [
    "NUM_ITERATIONS = 10\n",
    "for i in tqdm(range(NUM_ITERATIONS)):\n",
    "    print('Solving iteration: ', i+1)\n",
    "    #Calculate the jacobian matrix\n",
    "    J = jacobian_f(tx_scalar, ty_scalar, tz_scalar, ex_scalar, ey_scalar, ez_scaler, body_coords[0, 0], body_coords[0, 1], body_coords[0, 2])\n",
    "    for q in range(1,body_coords.shape[0]):\n",
    "        xb_n = body_coords[q, 0]\n",
    "        yb_n = body_coords[q, 1]\n",
    "        zb_n = body_coords[q, 2]        \n",
    "        #Calculate the jacobian matrix\n",
    "        J_q = jacobian_f(tx_scalar, ty_scalar, tz_scalar, ex_scalar, ey_scalar, ez_scaler, xb_n, yb_n, zb_n)\n",
    "        #Append the jacobian matrix\n",
    "        J = np.vstack((J, J_q))\n",
    "\n",
    "    #print(J)\n",
    "    #Calculate the residuals\n",
    "    R_np = R_f(ex_scalar, ey_scalar, ez_scaler) #rotation matrix\n",
    "    R_np = np.array(R_np).astype(np.float64)\n",
    "\n",
    "    residuals = utm_coords[0] - ( np.array([tx_scalar, ty_scalar, tz_scalar]).T + R_np@body_coords[0])\n",
    "    print(f'trans {np.array([tx_scalar, ty_scalar, tz_scalar])}')\n",
    "    for q in range(1, body_coords.shape[0]):\n",
    "        res_q = utm_coords[q] - ( np.array([tx_scalar, ty_scalar, tz_scalar]).T + R_np@body_coords[q])\n",
    "        #print(utm_coords[q])\n",
    "        residuals = np.hstack((residuals, res_q))\n",
    "        \n",
    "    print(residuals)\n",
    "    #Calculate the correction\n",
    "    #rint(f' Here: {residuals.shape}')\n",
    "    correction = np.linalg.inv(J.T @ J) @ J.T @ residuals\n",
    "    #Update the translation parameters and euler angles\n",
    "    tx_scalar += correction[0]\n",
    "    ty_scalar += correction[1]\n",
    "    tz_scalar += correction[2]\n",
    "    ex_scalar += correction[3]\n",
    "    ey_scalar += correction[4]\n",
    "    ez_scaler += correction[5]\n",
    "\n",
    "    #Append the values to the holders\n",
    "    tx_holder.append(log_transform(tx_scalar))\n",
    "    ty_holder.append(log_transform(ty_scalar))\n",
    "    tz_holder.append(log_transform(tz_scalar))\n",
    "    ex_holder.append(ex_scalar)\n",
    "    ey_holder.append(ey_scalar)\n",
    "    ez_holder.append(ez_scaler)\n",
    "    \n"
   ]
  },
  {
   "cell_type": "code",
   "execution_count": 99,
   "metadata": {},
   "outputs": [],
   "source": [
    "# Round all the values to 3 decimal places\n",
    "tx_scalar = round(tx_scalar, 2)\n",
    "ty_scalar = round(ty_scalar, 2)\n",
    "tz_scalar = round(tz_scalar, 2)\n",
    "ex_scalar = round(ex_scalar, 6)\n",
    "ey_scalar = round(ey_scalar, 6)\n",
    "ez_scaler = round(ez_scaler, 6)"
   ]
  },
  {
   "cell_type": "code",
   "execution_count": 100,
   "metadata": {},
   "outputs": [
    {
     "name": "stdout",
     "output_type": "stream",
     "text": [
      " Transformation found: \n",
      " Tx: 269962.66\n",
      " Ty: 3289286.98\n",
      " Tz: -13.49\n",
      " ex: 0.001953\n",
      " ey: -0.01716\n",
      " ez: 0.08319\n"
     ]
    }
   ],
   "source": [
    "#print the final values of the translation parameters and euler angles\n",
    "print(f\" Transformation found: \\n Tx: {tx_scalar}\\n Ty: {ty_scalar}\\n Tz: {tz_scalar}\\n ex: {ex_scalar}\\n ey: {ey_scalar}\\n ez: {ez_scaler}\")"
   ]
  },
  {
   "cell_type": "code",
   "execution_count": 101,
   "metadata": {},
   "outputs": [
    {
     "data": {
      "image/png": "[encoded data removed]",
      "text/plain": [
       "<Figure size 640x480 with 1 Axes>"
      ]
     },
     "metadata": {},
     "output_type": "display_data"
    }
   ],
   "source": [
    "#Plot the translation parameters and euler angles agains iterations\n",
    "#to show that the solution has converged\n",
    "plt.plot(tx_holder, label='tx')\n",
    "plt.plot(ty_holder, label='ty')\n",
    "plt.plot(tz_holder, label='tz')\n",
    "plt.plot(ex_holder, label='ex')\n",
    "plt.plot(ey_holder, label='ey')\n",
    "plt.plot(ez_holder, label='ez')\n",
    "plt.xlabel('Iterations')\n",
    "plt.ylabel('Values')\n",
    "plt.legend()\n",
    "plt.show()"
   ]
  },
  {
   "cell_type": "code",
   "execution_count": 29,
   "metadata": {},
   "outputs": [
    {
     "name": "stdout",
     "output_type": "stream",
     "text": [
      "(1176072, 4)\n"
     ]
    }
   ],
   "source": [
    "#load scan.npy\n",
    "scan = np.load('scan.npy')\n",
    "print(scan.shape)"
   ]
  },
  {
   "cell_type": "code",
   "execution_count": 30,
   "metadata": {},
   "outputs": [
    {
     "name": "stdout",
     "output_type": "stream",
     "text": [
      "(1176072, 3)\n"
     ]
    }
   ],
   "source": [
    "scan_rap = scan[:,:3] #range, alpha, phi\n",
    "scan_xyz = np.array(curv2cartesian(scan_rap[:,0], scan_rap[:,1], scan_rap[:,2])).T\n",
    "\n",
    "print(scan_xyz.shape)\n"
   ]
  },
  {
   "cell_type": "code",
   "execution_count": 31,
   "metadata": {},
   "outputs": [],
   "source": [
    "scan_xyz_transformed = np.zeros(scan_xyz.shape)\n",
    "for i in range(scan_xyz.shape[0]):\n",
    "    scan_xyz_transformed[i] = np.array([tx_scalar, ty_scalar, tz_scalar]) + R_np@scan_xyz[i]"
   ]
  },
  {
   "cell_type": "code",
   "execution_count": 32,
   "metadata": {},
   "outputs": [],
   "source": [
    "intensity = scan[:,3]\n",
    "scan_xyz_transformed = np.hstack((scan_xyz_transformed, intensity[:,None]))"
   ]
  },
  {
   "cell_type": "code",
   "execution_count": 33,
   "metadata": {},
   "outputs": [],
   "source": [
    "#Save the transformed scan\n",
    "np.save('scan_transformed.npy', scan_xyz_transformed)\n",
    "#Save the transformed scan points as text file\n",
    "np.savetxt('scan_transformed.txt', scan_xyz_transformed)"
   ]
  }
 ],
 "metadata": {
  "kernelspec": {
   "display_name": "Python 3 (ipykernel)",
   "language": "python",
   "name": "python3"
  },
  "language_info": {
   "codemirror_mode": {
    "name": "ipython",
    "version": 3
   },
   "file_extension": ".py",
   "mimetype": "text/x-python",
   "name": "python",
   "nbconvert_exporter": "python",
   "pygments_lexer": "ipython3",
   "version": "3.9.13"
  }
 },
 "nbformat": 4,
 "nbformat_minor": 2
}
